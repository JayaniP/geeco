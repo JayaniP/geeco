{
 "cells": [
  {
   "cell_type": "markdown",
   "metadata": {},
   "source": [
    "# Split Creation\n",
    "Generates splits for a GEECO dataset."
   ]
  },
  {
   "cell_type": "code",
   "execution_count": null,
   "metadata": {},
   "outputs": [],
   "source": [
    "'''imports'''\n",
    "import os\n",
    "import re\n",
    "import csv\n",
    "import pprint\n",
    "\n",
    "import numpy as np"
   ]
  },
  {
   "cell_type": "code",
   "execution_count": null,
   "metadata": {},
   "outputs": [],
   "source": [
    "'''input'''\n",
    "# dataset_name = 'gym-push-pad1-cube1-v4'\n",
    "# dataset_name = 'gym-push-pad1-cube2-v4'\n",
    "# dataset_name = 'gym-push-pad2-cube1-v4'\n",
    "# dataset_name = 'gym-push-pad2-cube2-v4'\n",
    "# dataset_name = 'gym-pick-pad1-cube1-v4'\n",
    "# dataset_name = 'gym-pick-pad1-cube2-v4'\n",
    "# dataset_name = 'gym-pick-pad2-cube1-v4'\n",
    "dataset_name = 'gym-pick-pad2-cube2-v4'\n",
    "# dataset_name = 'gym-pick-pad2-cube2-clutter4-v4'\n",
    "# dataset_name = 'gym-pick-pad2-cube2-clutter12-v4'\n",
    "\n",
    "split_name = 'balanced'\n",
    "# split_name = 'fasttest'\n",
    "# split_name = 'default'\n",
    "# split_name = 'debug'"
   ]
  },
  {
   "cell_type": "code",
   "execution_count": null,
   "metadata": {},
   "outputs": [],
   "source": [
    "'''presets'''\n",
    "DATASET2CSV = {\n",
    "        'gym-push-pad1-cube1-v4' : 'init-gym-push-pad1-cube1.csv',\n",
    "        'gym-push-pad1-cube2-v4' : 'init-gym-push-pad1-cube2.csv',\n",
    "        'gym-push-pad2-cube1-v4' : 'init-gym-push-pad2-cube1.csv',\n",
    "        'gym-push-pad2-cube2-v4' : 'init-gym-push-pad2-cube2.csv',\n",
    "        'gym-pick-pad1-cube1-v4' : 'init-gym-pick-pad1-cube1.csv',\n",
    "        'gym-pick-pad1-cube2-v4' : 'init-gym-pick-pad1-cube2.csv',\n",
    "        'gym-pick-pad2-cube1-v4' : 'init-gym-pick-pad2-cube1.csv',\n",
    "        'gym-pick-pad2-cube2-v4' : 'init-gym-pick-pad2-cube2.csv',\n",
    "        'gym-pick-pad2-cube2-clutter4-v4' : 'init-gym-pick-pad2-cube2-clutter4.csv',\n",
    "        'gym-pick-pad2-cube2-clutter12-v4' : 'init-gym-pick-pad2-cube2-clutter12.csv',\n",
    "}\n",
    "SPLITRATIO = {\n",
    "        'fasttest' : (0.0, 0.0, 1.0),\n",
    "        'default' : (0.5, 0.3, 0.2),\n",
    "        'debug' : (0.01, 0.01, 0.01),\n",
    "        'balanced' : (0.5, 0.25, 0.25),\n",
    "}\n",
    "p_train, p_eval, p_test = SPLITRATIO[split_name]\n",
    "init_fn = DATASET2CSV[dataset_name]"
   ]
  },
  {
   "cell_type": "code",
   "execution_count": null,
   "metadata": {},
   "outputs": [],
   "source": [
    "'''path setup'''\n",
    "root_path = os.environ['GEECO_ROOT']\n",
    "dataset_dir = os.path.join(root_path, 'data', dataset_name)\n",
    "\n",
    "data_dir = os.path.join(dataset_dir, 'data')\n",
    "meta_dir = os.path.join(dataset_dir, 'meta')\n",
    "splits_dir = os.path.join(dataset_dir, 'splits')\n",
    "print(\"Dataset directory: %s\" % dataset_dir)"
   ]
  },
  {
   "cell_type": "code",
   "execution_count": null,
   "metadata": {},
   "outputs": [],
   "source": [
    "'''set up data structures'''\n",
    "\n",
    "# list all tfrecords in <dataset_dir>/data\n",
    "tfrecord_list = [fn for fn in os.listdir(data_dir) if fn.endswith('.tfrecord.zlib')]\n",
    "print(\"Found %d tfrecords in %s\" % (len(tfrecord_list), data_dir))\n",
    "# 1-based record filenames!\n",
    "idx2tfrecord = dict([(int(re.search(r'\\d+', fn).group(0)) - 1, fn) for fn in tfrecord_list])\n",
    "tfrecord2idx = dict([(fn, int(re.search(r'\\d+', fn).group(0)) - 1) for fn in tfrecord_list])\n",
    "\n",
    "# associate rows from init csv\n",
    "init_path = os.path.join(meta_dir, init_fn)\n",
    "init_rows = []\n",
    "with open(init_path) as fp:\n",
    "    reader = csv.reader(fp, delimiter=';')\n",
    "    iterator = iter(reader)\n",
    "    header_row = next(iterator)\n",
    "    print(header_row)\n",
    "    while True:\n",
    "        try:\n",
    "            row = next(iterator)\n",
    "        except StopIteration:\n",
    "            break\n",
    "        state_row = [float(e) for e in row[:-2]]\n",
    "        task_row = [str(e) for e in row[-2:]]\n",
    "        init_rows.append(state_row + task_row)\n",
    "\n",
    "# group by task\n",
    "task_map = {}\n",
    "task_groups = {}\n",
    "for record_id, record_name in idx2tfrecord.items():\n",
    "    task_name = \"\".join(init_rows[record_id][-2:])\n",
    "    task_map[record_name] = task_name\n",
    "    if task_name not in task_groups:\n",
    "        task_groups[task_name] = [record_name]\n",
    "    else:\n",
    "        task_groups[task_name].append(record_name)\n",
    "print(\"Found the following task groups:\")\n",
    "for task_name, record_names in task_groups.items():\n",
    "    print(task_name, len(record_names))"
   ]
  },
  {
   "cell_type": "code",
   "execution_count": null,
   "metadata": {},
   "outputs": [],
   "source": [
    "'''helper functions'''\n",
    "def create_split(items, p_train, p_eval, p_test):\n",
    "    num_items = len(items)\n",
    "    np.random.shuffle(items)\n",
    "    idx_train = int(np.rint(num_items * p_train))\n",
    "    items_train = items[:idx_train]\n",
    "    del items[:idx_train]\n",
    "    idx_eval = int(np.rint(num_items * p_eval))\n",
    "    items_eval = items[:idx_eval]\n",
    "    del items[:idx_eval]\n",
    "    items_test = items  # remainder\n",
    "    return items_train, items_eval, items_test\n",
    "\n",
    "def load_split(split_dir):\n",
    "    items_train, items_eval, items_test = [], [], []\n",
    "    for split, items in [('train', items_train), ('eval', items_eval), ('test', items_test)]:\n",
    "        split_file = os.path.join(split_dir, '%s.txt' % split)\n",
    "        with open(split_file, 'r') as fp:\n",
    "            items.extend(fp.read().split('\\n')[:-1])\n",
    "    return items_train, items_eval, items_test"
   ]
  },
  {
   "cell_type": "code",
   "execution_count": null,
   "metadata": {},
   "outputs": [],
   "source": [
    "'''create split'''\n",
    "split_dir = os.path.join(splits_dir, split_name)\n",
    "os.makedirs(split_dir, exist_ok=True)\n",
    "\n",
    "# split into train | eval | test or load from files\n",
    "split_paths = [os.path.join(split_dir, '%s.txt' % split) for split in ['train', 'eval', 'test']]\n",
    "if all([os.path.exists(p) for p in split_paths]):  # complete split, load files\n",
    "    print(\"Complete split found at %s\" % split_dir)\n",
    "    print(\"Loading items...\")\n",
    "    train_items, eval_items, test_items = load_split(split_dir)\n",
    "elif any([os.path.exists(p) for p in split_paths]):  # incomplete split, raise warning\n",
    "    err_msg = \"Incomplete split found at %s! Please fix before continuing!\" % split_dir\n",
    "    print(os.listdir(split_dir))\n",
    "    raise RuntimeWarning(err_msg)\n",
    "else:  # empty split, create from scratch\n",
    "    print(\"Empty spilt. Create a new one from scratch.\")\n",
    "    train_items, eval_items, test_items = [], [], []\n",
    "    # sample in equal proportions from each task group\n",
    "    for task_name, record_names in task_groups.items():\n",
    "        _train, _eval, _test = create_split(record_names, p_train, p_eval, p_test)\n",
    "        train_items.extend(_train)\n",
    "        eval_items.extend(_eval)\n",
    "        test_items.extend(_test)\n",
    "\n",
    "print(\"Split:\\tTrain: %d\\tEval: %d\\tTest: %d\" % (len(train_items), len(eval_items), len(test_items)))"
   ]
  },
  {
   "cell_type": "code",
   "execution_count": null,
   "metadata": {},
   "outputs": [],
   "source": [
    "'''associate init'''\n",
    "# associate each tfrecord with its row ID in the initial config CSV table\n",
    "train_init = [init_rows[tfrecord2idx[tfr]] for tfr in train_items]\n",
    "eval_init = [init_rows[tfrecord2idx[tfr]] for tfr in eval_items]\n",
    "test_init = [init_rows[tfrecord2idx[tfr]] for tfr in test_items]\n",
    "print(\"Associated inits:\\tTrain: %d\\tEval: %d\\tTest: %d\" % (len(train_init), len(eval_init), len(test_init)))"
   ]
  },
  {
   "cell_type": "code",
   "execution_count": null,
   "metadata": {},
   "outputs": [],
   "source": [
    "'''save split files'''\n",
    "for part, items in [('train', train_items), ('eval', eval_items), ('test', test_items)]:\n",
    "    file_path = os.path.join(split_dir, '%s.txt' % (part, ))\n",
    "    if os.path.exists(file_path):\n",
    "        print(\"Split file %s already exists!\" % file_path)\n",
    "    else:\n",
    "        print(\"Writing split file: %s\" % file_path)\n",
    "        with open(file_path, 'w') as fp:\n",
    "            for item in items:\n",
    "                fp.write(item+'\\n')"
   ]
  },
  {
   "cell_type": "code",
   "execution_count": null,
   "metadata": {},
   "outputs": [],
   "source": [
    "'''export init configurations associated with splits'''\n",
    "for split, rows in [('train', train_init), ('eval', eval_init), ('test', test_init)]:\n",
    "    csv_path = os.path.join(split_dir, 'init-%s.csv' % (split, ))\n",
    "    if os.path.exists(csv_path):\n",
    "        print(\"Init file %s already exists!\" % csv_path)\n",
    "    else:\n",
    "        print(\"Writing init file: %s\" % csv_path)\n",
    "        with open(csv_path, 'w', newline='') as fp:\n",
    "            writer = csv.writer(fp, delimiter=';')\n",
    "            writer.writerow(header_row)\n",
    "            for row in rows:\n",
    "                writer.writerow(row)"
   ]
  },
  {
   "cell_type": "code",
   "execution_count": null,
   "metadata": {},
   "outputs": [],
   "source": []
  }
 ],
 "metadata": {
  "kernelspec": {
   "display_name": "Python 3",
   "language": "python",
   "name": "python3"
  },
  "language_info": {
   "codemirror_mode": {
    "name": "ipython",
    "version": 3
   },
   "file_extension": ".py",
   "mimetype": "text/x-python",
   "name": "python",
   "nbconvert_exporter": "python",
   "pygments_lexer": "ipython3",
   "version": "3.7.7"
  }
 },
 "nbformat": 4,
 "nbformat_minor": 2
}
